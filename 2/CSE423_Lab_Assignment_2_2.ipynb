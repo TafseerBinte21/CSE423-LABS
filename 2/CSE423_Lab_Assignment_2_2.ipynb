{
  "nbformat": 4,
  "nbformat_minor": 0,
  "metadata": {
    "colab": {
      "provenance": []
    },
    "kernelspec": {
      "name": "python3",
      "display_name": "Python 3"
    },
    "language_info": {
      "name": "python"
    },
    "accelerator": "GPU"
  },
  "cells": [
    {
      "cell_type": "code",
      "source": [
        "!pip install tensorflow==1.15.0"
      ],
      "metadata": {
        "colab": {
          "base_uri": "https://localhost:8080/"
        },
        "id": "L3y0yGFYiWRI",
        "outputId": "c45e41f4-7255-4d88-c9f7-993ea9554cb0"
      },
      "execution_count": 1,
      "outputs": [
        {
          "output_type": "stream",
          "name": "stdout",
          "text": [
            "Looking in indexes: https://pypi.org/simple, https://us-python.pkg.dev/colab-wheels/public/simple/\n",
            "Collecting tensorflow==1.15.0\n",
            "  Downloading tensorflow-1.15.0-cp37-cp37m-manylinux2010_x86_64.whl (412.3 MB)\n",
            "\u001b[K     |████████████████████████████████| 412.3 MB 29 kB/s \n",
            "\u001b[?25hCollecting tensorflow-estimator==1.15.1\n",
            "  Downloading tensorflow_estimator-1.15.1-py2.py3-none-any.whl (503 kB)\n",
            "\u001b[K     |████████████████████████████████| 503 kB 61.1 MB/s \n",
            "\u001b[?25hRequirement already satisfied: keras-preprocessing>=1.0.5 in /usr/local/lib/python3.7/dist-packages (from tensorflow==1.15.0) (1.1.2)\n",
            "Requirement already satisfied: grpcio>=1.8.6 in /usr/local/lib/python3.7/dist-packages (from tensorflow==1.15.0) (1.50.0)\n",
            "Collecting gast==0.2.2\n",
            "  Downloading gast-0.2.2.tar.gz (10 kB)\n",
            "Requirement already satisfied: absl-py>=0.7.0 in /usr/local/lib/python3.7/dist-packages (from tensorflow==1.15.0) (1.3.0)\n",
            "Requirement already satisfied: astor>=0.6.0 in /usr/local/lib/python3.7/dist-packages (from tensorflow==1.15.0) (0.8.1)\n",
            "Requirement already satisfied: opt-einsum>=2.3.2 in /usr/local/lib/python3.7/dist-packages (from tensorflow==1.15.0) (3.3.0)\n",
            "Requirement already satisfied: termcolor>=1.1.0 in /usr/local/lib/python3.7/dist-packages (from tensorflow==1.15.0) (2.1.0)\n",
            "Requirement already satisfied: wrapt>=1.11.1 in /usr/local/lib/python3.7/dist-packages (from tensorflow==1.15.0) (1.14.1)\n",
            "Requirement already satisfied: wheel>=0.26 in /usr/local/lib/python3.7/dist-packages (from tensorflow==1.15.0) (0.38.3)\n",
            "Requirement already satisfied: six>=1.10.0 in /usr/local/lib/python3.7/dist-packages (from tensorflow==1.15.0) (1.15.0)\n",
            "Collecting tensorboard<1.16.0,>=1.15.0\n",
            "  Downloading tensorboard-1.15.0-py3-none-any.whl (3.8 MB)\n",
            "\u001b[K     |████████████████████████████████| 3.8 MB 13.5 MB/s \n",
            "\u001b[?25hRequirement already satisfied: numpy<2.0,>=1.16.0 in /usr/local/lib/python3.7/dist-packages (from tensorflow==1.15.0) (1.21.6)\n",
            "Requirement already satisfied: google-pasta>=0.1.6 in /usr/local/lib/python3.7/dist-packages (from tensorflow==1.15.0) (0.2.0)\n",
            "Requirement already satisfied: protobuf>=3.6.1 in /usr/local/lib/python3.7/dist-packages (from tensorflow==1.15.0) (3.19.6)\n",
            "Collecting keras-applications>=1.0.8\n",
            "  Downloading Keras_Applications-1.0.8-py3-none-any.whl (50 kB)\n",
            "\u001b[K     |████████████████████████████████| 50 kB 8.1 MB/s \n",
            "\u001b[?25hRequirement already satisfied: h5py in /usr/local/lib/python3.7/dist-packages (from keras-applications>=1.0.8->tensorflow==1.15.0) (3.1.0)\n",
            "Requirement already satisfied: setuptools>=41.0.0 in /usr/local/lib/python3.7/dist-packages (from tensorboard<1.16.0,>=1.15.0->tensorflow==1.15.0) (57.4.0)\n",
            "Requirement already satisfied: markdown>=2.6.8 in /usr/local/lib/python3.7/dist-packages (from tensorboard<1.16.0,>=1.15.0->tensorflow==1.15.0) (3.4.1)\n",
            "Requirement already satisfied: werkzeug>=0.11.15 in /usr/local/lib/python3.7/dist-packages (from tensorboard<1.16.0,>=1.15.0->tensorflow==1.15.0) (1.0.1)\n",
            "Requirement already satisfied: importlib-metadata>=4.4 in /usr/local/lib/python3.7/dist-packages (from markdown>=2.6.8->tensorboard<1.16.0,>=1.15.0->tensorflow==1.15.0) (4.13.0)\n",
            "Requirement already satisfied: typing-extensions>=3.6.4 in /usr/local/lib/python3.7/dist-packages (from importlib-metadata>=4.4->markdown>=2.6.8->tensorboard<1.16.0,>=1.15.0->tensorflow==1.15.0) (4.1.1)\n",
            "Requirement already satisfied: zipp>=0.5 in /usr/local/lib/python3.7/dist-packages (from importlib-metadata>=4.4->markdown>=2.6.8->tensorboard<1.16.0,>=1.15.0->tensorflow==1.15.0) (3.10.0)\n",
            "Requirement already satisfied: cached-property in /usr/local/lib/python3.7/dist-packages (from h5py->keras-applications>=1.0.8->tensorflow==1.15.0) (1.5.2)\n",
            "Building wheels for collected packages: gast\n",
            "  Building wheel for gast (setup.py) ... \u001b[?25l\u001b[?25hdone\n",
            "  Created wheel for gast: filename=gast-0.2.2-py3-none-any.whl size=7554 sha256=923a807548a3178bf5831c36e8ddbbc0f393da2bcb3e7bef76d33ec9e7fff372\n",
            "  Stored in directory: /root/.cache/pip/wheels/21/7f/02/420f32a803f7d0967b48dd823da3f558c5166991bfd204eef3\n",
            "Successfully built gast\n",
            "Installing collected packages: tensorflow-estimator, tensorboard, keras-applications, gast, tensorflow\n",
            "  Attempting uninstall: tensorflow-estimator\n",
            "    Found existing installation: tensorflow-estimator 2.9.0\n",
            "    Uninstalling tensorflow-estimator-2.9.0:\n",
            "      Successfully uninstalled tensorflow-estimator-2.9.0\n",
            "  Attempting uninstall: tensorboard\n",
            "    Found existing installation: tensorboard 2.9.1\n",
            "    Uninstalling tensorboard-2.9.1:\n",
            "      Successfully uninstalled tensorboard-2.9.1\n",
            "  Attempting uninstall: gast\n",
            "    Found existing installation: gast 0.4.0\n",
            "    Uninstalling gast-0.4.0:\n",
            "      Successfully uninstalled gast-0.4.0\n",
            "  Attempting uninstall: tensorflow\n",
            "    Found existing installation: tensorflow 2.9.2\n",
            "    Uninstalling tensorflow-2.9.2:\n",
            "      Successfully uninstalled tensorflow-2.9.2\n",
            "\u001b[31mERROR: pip's dependency resolver does not currently take into account all the packages that are installed. This behaviour is the source of the following dependency conflicts.\n",
            "tensorflow-probability 0.17.0 requires gast>=0.3.2, but you have gast 0.2.2 which is incompatible.\n",
            "kapre 0.3.7 requires tensorflow>=2.0.0, but you have tensorflow 1.15.0 which is incompatible.\u001b[0m\n",
            "Successfully installed gast-0.2.2 keras-applications-1.0.8 tensorboard-1.15.0 tensorflow-1.15.0 tensorflow-estimator-1.15.1\n"
          ]
        }
      ]
    },
    {
      "cell_type": "code",
      "source": [
        "!pip install -q lucid>=0.2.3\n",
        "!pip install -q moviepy"
      ],
      "metadata": {
        "id": "YXv13t34XX7o",
        "colab": {
          "base_uri": "https://localhost:8080/"
        },
        "outputId": "250b4206-926b-425e-95b3-0ddb5a9b78f4"
      },
      "execution_count": 2,
      "outputs": [
        {
          "output_type": "stream",
          "name": "stdout",
          "text": [
            "\u001b[31mERROR: pip's dependency resolver does not currently take into account all the packages that are installed. This behaviour is the source of the following dependency conflicts.\n",
            "xarray-einstats 0.2.2 requires numpy>=1.21, but you have numpy 1.19.0 which is incompatible.\n",
            "tensorflow-probability 0.17.0 requires gast>=0.3.2, but you have gast 0.2.2 which is incompatible.\n",
            "kapre 0.3.7 requires tensorflow>=2.0.0, but you have tensorflow 1.15.0 which is incompatible.\n",
            "jaxlib 0.3.22+cuda11.cudnn805 requires numpy>=1.20, but you have numpy 1.19.0 which is incompatible.\n",
            "jax 0.3.23 requires numpy>=1.20, but you have numpy 1.19.0 which is incompatible.\n",
            "cupy-cuda11x 11.0.0 requires numpy<1.26,>=1.20, but you have numpy 1.19.0 which is incompatible.\n",
            "cmdstanpy 1.0.8 requires numpy>=1.21, but you have numpy 1.19.0 which is incompatible.\u001b[0m\n"
          ]
        }
      ]
    },
    {
      "cell_type": "code",
      "source": [
        "!pip install imageio==2.4.1"
      ],
      "metadata": {
        "colab": {
          "base_uri": "https://localhost:8080/"
        },
        "id": "Eg1iOrd_FyrX",
        "outputId": "73d06c7a-4d9f-4535-d2ac-2636e68babff"
      },
      "execution_count": 3,
      "outputs": [
        {
          "output_type": "stream",
          "name": "stdout",
          "text": [
            "Looking in indexes: https://pypi.org/simple, https://us-python.pkg.dev/colab-wheels/public/simple/\n",
            "Collecting imageio==2.4.1\n",
            "  Downloading imageio-2.4.1.tar.gz (3.3 MB)\n",
            "\u001b[K     |████████████████████████████████| 3.3 MB 12.6 MB/s \n",
            "\u001b[?25hRequirement already satisfied: numpy in /usr/local/lib/python3.7/dist-packages (from imageio==2.4.1) (1.19.0)\n",
            "Requirement already satisfied: pillow in /usr/local/lib/python3.7/dist-packages (from imageio==2.4.1) (7.1.2)\n",
            "Building wheels for collected packages: imageio\n",
            "  Building wheel for imageio (setup.py) ... \u001b[?25l\u001b[?25hdone\n",
            "  Created wheel for imageio: filename=imageio-2.4.1-py3-none-any.whl size=3303886 sha256=bce8619bba389d7bdaf2a5619a1592d81dc96d047eb7267599ff5b2a06d8f6eb\n",
            "  Stored in directory: /root/.cache/pip/wheels/46/20/07/7bb9c8c44e6ec2efa60fd0e6280094f53f65f41767ef69a5ee\n",
            "Successfully built imageio\n",
            "Installing collected packages: imageio\n",
            "  Attempting uninstall: imageio\n",
            "    Found existing installation: imageio 2.9.0\n",
            "    Uninstalling imageio-2.9.0:\n",
            "      Successfully uninstalled imageio-2.9.0\n",
            "Successfully installed imageio-2.4.1\n"
          ]
        }
      ]
    },
    {
      "cell_type": "code",
      "source": [
        "import numpy as np\n",
        "import json\n",
        "import moviepy.editor as mvp\n",
        "from google.colab import files\n",
        "import tensorflow.compat.v1.gfile as gfile\n",
        "import lucid.misc.io.showing as show"
      ],
      "metadata": {
        "id": "MuQfUYd6XYDH"
      },
      "execution_count": 6,
      "outputs": []
    },
    {
      "cell_type": "code",
      "source": [
        "from lucid.misc.gl.glcontext import create_opengl_context\n",
        "\n",
        "# Now it's safe to import OpenGL and EGL functions\n",
        "import OpenGL.GL as gl\n",
        "from OpenGL.GLU import *\n",
        "\n",
        "# create_opengl_context() creates GL context that is attached to an\n",
        "# offscreen surface of specified size. Note that rendering to buffers\n",
        "# of different size and format is still possible with OpenGL Framebuffers.\n",
        "#\n",
        "# Users are expected to directly use EGL calls in case more advanced\n",
        "# context management is required.\n",
        "WIDTH, HEIGHT = 800,600\n",
        "create_opengl_context((WIDTH, HEIGHT))\n",
        "    \n",
        "# OpenGL context is available here.\n",
        "\n",
        "print(gl.glGetString(gl.GL_VERSION))\n",
        "print(gl.glGetString(gl.GL_VENDOR)) \n",
        "#print(gl.glGetString(gl.GL_EXTENSIONS))"
      ],
      "metadata": {
        "id": "-dC6f5NBXcNu",
        "colab": {
          "base_uri": "https://localhost:8080/"
        },
        "outputId": "2912342a-140c-4252-b0be-88596207a5ba"
      },
      "execution_count": 7,
      "outputs": [
        {
          "output_type": "stream",
          "name": "stdout",
          "text": [
            "b'4.6.0 NVIDIA 460.32.03'\n",
            "b'NVIDIA Corporation'\n"
          ]
        }
      ]
    },
    {
      "cell_type": "code",
      "source": [
        "def addPixel(a,b):\n",
        "    gl.glVertex2f( a/(WIDTH/2), b/(HEIGHT/2) )"
      ],
      "metadata": {
        "id": "H1P5fx3it6xF"
      },
      "execution_count": 8,
      "outputs": []
    },
    {
      "cell_type": "code",
      "source": [
        "def findZone(x1,y1,x2,y2):\n",
        "  if x2 - x1 == 0:\n",
        "    m = (y2-y1)*float('inf')\n",
        "  else:\n",
        "    m = (y2-y1)/(x2-x1)\n",
        "  if 0 <= m < 1:\n",
        "    if x2 > x1:\n",
        "      return 0\n",
        "    else:\n",
        "      return 4\n",
        "  elif m > 1:\n",
        "    if y2 > y1:\n",
        "      return 1\n",
        "    else: \n",
        "      return 5\n",
        "  elif m < -1:\n",
        "    if y2 > y1:\n",
        "      return 2\n",
        "    else:\n",
        "      return 6\n",
        "  else:\n",
        "    if x2 > x1:\n",
        "      return 7\n",
        "    else:\n",
        "      return 3"
      ],
      "metadata": {
        "id": "6EpBgpbdu0G3"
      },
      "execution_count": 9,
      "outputs": []
    },
    {
      "cell_type": "code",
      "source": [
        "def to_zero_from_zone(zone,x1, y1, x2, y2):\n",
        "    if zone == 0:\n",
        "        return x1 , y1 , x2 , y2\n",
        "    elif zone == 1:\n",
        "        return y1 , x1 , y2 , x2\n",
        "    elif zone == 2:\n",
        "        return y1 , -1*x1 , y2 , -1*x2\n",
        "    elif zone == 3:\n",
        "        return -1*x1 , y1 , -1*x2 , y2\n",
        "    elif zone == 4:\n",
        "        return -1*x1 , -1*y1 , -1*x2 , -1*y2\n",
        "    elif zone == 5:\n",
        "        return -1*y1 , -1*x1 , -1*y2 , -1*x2\n",
        "    elif zone == 6:\n",
        "        return -1*y1 , x1 , -1*y2 , x2\n",
        "    elif zone == 7:\n",
        "        return x1 , -1*y1 , x2 , -1*y2\n"
      ],
      "metadata": {
        "id": "Cmu6__flKIAs"
      },
      "execution_count": 10,
      "outputs": []
    },
    {
      "cell_type": "code",
      "source": [
        "def from_zero_to(zone, x, y):\n",
        "    if zone == 0:\n",
        "        return x , y\n",
        "    elif zone == 1:\n",
        "        return y , x\n",
        "    elif zone == 2:\n",
        "        return -1*y , x\n",
        "    elif zone == 3:\n",
        "        return -1*x , y\n",
        "    elif zone == 4:\n",
        "        return -1*x , -1*y\n",
        "    elif zone == 5:\n",
        "        return -1*y , -1*x\n",
        "    elif zone == 6:\n",
        "        return y , -1*x\n",
        "    elif zone == 7:\n",
        "        return x , -1*y"
      ],
      "metadata": {
        "id": "ElBA6UCCLMcV"
      },
      "execution_count": 11,
      "outputs": []
    },
    {
      "cell_type": "code",
      "source": [
        "def DrawLine(x1,y1,x2,y2):\n",
        "  gl.glBegin(gl.GL_POINTS)\n",
        "  zone = findZone(x1,y1,x2,y2)\n",
        "  x1,y1,x2,y2 = to_zero_from_zone(zone, x1, y1, x2, y2)\n",
        "  dx = x2 - x1\n",
        "  dy = y2 - y1\n",
        "  d = 2*dy-dx\n",
        "  delE = 2*dy\n",
        "  delNE = 2*(dy-dx)\n",
        "  y = y1\n",
        "  for x in range(x1, x2+1):\n",
        "    nx, ny = from_zero_to(zone,x,y)\n",
        "    addPixel(nx,ny)\n",
        "    if d > 0: # NE\n",
        "      d = d + delNE\n",
        "      y = y + 1\n",
        "    else: # E\n",
        "      d = d + delE\n",
        "  gl.glEnd()\n"
      ],
      "metadata": {
        "id": "n_JZmWn5tT00"
      },
      "execution_count": 12,
      "outputs": []
    },
    {
      "cell_type": "code",
      "source": [
        "# Let's render something!\n",
        "gl.glClear(gl.GL_COLOR_BUFFER_BIT)\n",
        "\n",
        "gl.glColor3f(1,1,1)\n",
        "gl.glPointSize(1)\n",
        "# 1\n",
        "DrawLine(-200,150,-200,-150)\n",
        "# 8\n",
        "DrawLine(-100,150,100,150)\n",
        "DrawLine(-100,-150,100,-150)\n",
        "DrawLine(-100,150,-100,-150)\n",
        "DrawLine(100,150,100,-150)\n",
        "DrawLine(-100,0,100,-0)\n",
        "\n"
      ],
      "metadata": {
        "id": "ANi7Wf-hbL9Y"
      },
      "execution_count": 13,
      "outputs": []
    },
    {
      "cell_type": "code",
      "source": [
        "gl.glClear(gl.GL_COLOR_BUFFER_BIT)\n",
        "\n",
        "gl.glColor3f(1,1,1)\n",
        "gl.glPointSize(1)\n",
        "DrawLine(0,0,-200,100)"
      ],
      "metadata": {
        "id": "UYC9OBooelvB"
      },
      "execution_count": null,
      "outputs": []
    },
    {
      "cell_type": "code",
      "source": [
        "# Let's render something!\n",
        "gl.glClear(gl.GL_COLOR_BUFFER_BIT)\n",
        "\n",
        "gl.glColor3f(0.7,0.7,1)\n",
        "gl.glPointSize(3)\n",
        "Shifter = 0 \n",
        "\n",
        "DrawLine(-100+Shifter,75,-50+Shifter,75)      #Top -\n",
        "DrawLine(-100+Shifter,75,-100+Shifter,0)      #LeftTop |\n",
        "DrawLine(-100+Shifter,0,-50+Shifter,0)        #Middle -\n",
        "DrawLine(-50+Shifter,0,-50+Shifter,-75)       #BottomRight |\n",
        "DrawLine(-50+Shifter,-75,-100+Shifter,-75)    #Bottom\n",
        "DrawLine(-100+Shifter,-75,-100+Shifter,0)     #LeftBottom |\n",
        "DrawLine(-50+Shifter,75,-50+Shifter,0)        #TopRight |\n",
        "\n",
        "def idprint(id):\n",
        "  id = str(id)\n",
        "  id = id[-2] + id[-1]\n",
        "  shifter = 0\n",
        "  for i in id:\n",
        "    if i == '1':\n",
        "      \n"
      ],
      "metadata": {
        "id": "tnGE1lXb74wY"
      },
      "execution_count": 59,
      "outputs": []
    },
    {
      "cell_type": "code",
      "source": [
        "def idprint(id):\n",
        "  gl.glClear(gl.GL_COLOR_BUFFER_BIT)\n",
        "  gl.glColor3f(0.7,0.7,1)\n",
        "  gl.glPointSize(5)\n",
        "  id = str(id)\n",
        "  # id = id[-2] + id[-1]\n",
        "  Shifter = -200\n",
        "  for i in id:\n",
        "    if i == '1':\n",
        "      DrawLine(-50+Shifter,0,-50+Shifter,-75)       #BottomRight |\n",
        "      DrawLine(-50+Shifter,75,-50+Shifter,0)        #TopRight |\n",
        "    elif i == '2':\n",
        "      DrawLine(-100+Shifter,75,-50+Shifter,75)      #Top -\n",
        "      DrawLine(-50+Shifter,75,-50+Shifter,0)        #TopRight |\n",
        "      DrawLine(-100+Shifter,0,-50+Shifter,0)        #Middle -\n",
        "      DrawLine(-100+Shifter,-75,-100+Shifter,0)     #LeftBottom |\n",
        "      DrawLine(-50+Shifter,-75,-100+Shifter,-75)    #Bottom\n",
        "    elif i == '3':\n",
        "      DrawLine(-100+Shifter,75,-50+Shifter,75)      #Top -\n",
        "      DrawLine(-50+Shifter,75,-50+Shifter,0)        #TopRight |\n",
        "      DrawLine(-100+Shifter,0,-50+Shifter,0)        #Middle -\n",
        "      DrawLine(-50+Shifter,0,-50+Shifter,-75)       #BottomRight |\n",
        "      DrawLine(-50+Shifter,-75,-100+Shifter,-75)    #Bottom\n",
        "    elif i == '4':\n",
        "      DrawLine(-50+Shifter,75,-50+Shifter,0)        #TopRight |\n",
        "      DrawLine(-100+Shifter,75,-100+Shifter,0)      #LeftTop |\n",
        "      DrawLine(-100+Shifter,0,-50+Shifter,0)        #Middle -\n",
        "      DrawLine(-50+Shifter,0,-50+Shifter,-75)       #BottomRight |\n",
        "    elif i == '5':\n",
        "      DrawLine(-100+Shifter,75,-50+Shifter,75)      #Top -\n",
        "      DrawLine(-100+Shifter,75,-100+Shifter,0)      #LeftTop |\n",
        "      DrawLine(-100+Shifter,0,-50+Shifter,0)        #Middle -\n",
        "      DrawLine(-50+Shifter,0,-50+Shifter,-75)       #BottomRight |\n",
        "      DrawLine(-50+Shifter,-75,-100+Shifter,-75)    #Bottom\n",
        "    elif i == '6':\n",
        "      DrawLine(-100+Shifter,75,-50+Shifter,75)      #Top -\n",
        "      DrawLine(-100+Shifter,75,-100+Shifter,0)      #LeftTop |\n",
        "      DrawLine(-100+Shifter,0,-50+Shifter,0)        #Middle -\n",
        "      DrawLine(-50+Shifter,0,-50+Shifter,-75)       #BottomRight |\n",
        "      DrawLine(-50+Shifter,-75,-100+Shifter,-75)    #Bottom\n",
        "      DrawLine(-100+Shifter,-75,-100+Shifter,0)     #LeftBottom |\n",
        "    elif i == '7':\n",
        "      DrawLine(-100+Shifter,75,-50+Shifter,75)      #Top -\n",
        "      DrawLine(-50+Shifter,0,-50+Shifter,-75)       #BottomRight |\n",
        "      DrawLine(-50+Shifter,75,-50+Shifter,0)        #TopRight |\n",
        "    elif i == '8':\n",
        "      DrawLine(-100+Shifter,75,-50+Shifter,75)      #Top -\n",
        "      DrawLine(-100+Shifter,75,-100+Shifter,0)      #LeftTop |\n",
        "      DrawLine(-100+Shifter,0,-50+Shifter,0)        #Middle -\n",
        "      DrawLine(-50+Shifter,0,-50+Shifter,-75)       #BottomRight |\n",
        "      DrawLine(-50+Shifter,-75,-100+Shifter,-75)    #Bottom\n",
        "      DrawLine(-100+Shifter,-75,-100+Shifter,0)     #LeftBottom |\n",
        "      DrawLine(-50+Shifter,75,-50+Shifter,0)        #TopRight |\n",
        "    elif i == '9':\n",
        "      DrawLine(-100+Shifter,75,-50+Shifter,75)      #Top -\n",
        "      DrawLine(-100+Shifter,75,-100+Shifter,0)      #LeftTop |\n",
        "      DrawLine(-100+Shifter,0,-50+Shifter,0)        #Middle -\n",
        "      DrawLine(-50+Shifter,0,-50+Shifter,-75)       #BottomRight |\n",
        "      DrawLine(-50+Shifter,-75,-100+Shifter,-75)    #Bottom\n",
        "      DrawLine(-50+Shifter,75,-50+Shifter,0)        #TopRight |\n",
        "    elif i == '0':\n",
        "      DrawLine(-100+Shifter,75,-50+Shifter,75)      #Top -\n",
        "      DrawLine(-100+Shifter,75,-100+Shifter,0)      #LeftTop |\n",
        "      DrawLine(-50+Shifter,0,-50+Shifter,-75)       #BottomRight |\n",
        "      DrawLine(-50+Shifter,-75,-100+Shifter,-75)    #Bottom\n",
        "      DrawLine(-100+Shifter,-75,-100+Shifter,0)     #LeftBottom |\n",
        "      DrawLine(-50+Shifter,75,-50+Shifter,0)        #TopRight |\n",
        "    Shifter += 75"
      ],
      "metadata": {
        "id": "jqCxqY9b-3Ze"
      },
      "execution_count": 103,
      "outputs": []
    },
    {
      "cell_type": "code",
      "source": [
        "idprint(20101147)\n",
        "\n",
        "img_buf = gl.glReadPixelsub(0, 0, WIDTH, HEIGHT, gl.GL_RGB, gl.GL_UNSIGNED_BYTE)\n",
        "img = np.frombuffer(img_buf, np.uint8).reshape(HEIGHT, WIDTH, 3)[::-1]\n",
        "show.image(img/255.0)"
      ],
      "metadata": {
        "colab": {
          "base_uri": "https://localhost:8080/",
          "height": 621
        },
        "id": "e6JCjyDMyE75",
        "outputId": "32a2ca3b-99d3-4934-d894-e3b30e0b0384"
      },
      "execution_count": 104,
      "outputs": [
        {
          "output_type": "display_data",
          "data": {
            "text/plain": [
              "<IPython.core.display.HTML object>"
            ],
            "text/html": [
              "<img src=\"data:image/PNG;base64,iVBORw0KGgoAAAANSUhEUgAAAyAAAAJYCAIAAAAVFBUnAAAHWUlEQVR4nO3aUWrDMBQAwbj4fD6sL5j+h0JLWEeSO3OA8GxFZhF6PAAAAAAAAAAAAAAAAAAAAAAAAAAAAAAAAAAAAAAAAAAAAAAAAAAAAAAAAAAAAAAAAAAAAAAAAAAAAAAAAAAAAAAAAAAAAAAAAAAAAAAAAAAAAAAAAAAAAAAAAAAAAAAAAAAAAAAAAAAAAAAAAAAAAAAAAAAAAAAAAAAAAAAAAAAAAAAAAAAAAAAAAAAAAAAAAAAAAAAAAAAAAAAAAAAAAAAAAAAAAAAAAAAAAAAAAAAAAAAAAAAAAAAAAAAAAAAAAAAAAAAAAAAAAAAAAAAAAAAAAAAAAAAAAAAAAAAAAAAAAAAAAAAAAAAAAAAAAAAAAAAAAAAAAAAAAAAAAAAAAAAAAAAAAAAAAAAAAAAAAAAAAAAAAAAAAAAAAAAAAAAAAAAAAAAAAAAAAAAAAAAAAAAAAAAAAAAAAAAAAAAAAAAAAAAAAAAAAAAAAAAAAAAAAAAAAAAAAAAAAAAAAAAAAAAAAAAAAAAAAAAAAAAAAAAAAAAAAAAAAAAAAAAAAAAAAAAAAAAAAAAAAAAAAAAAAAAAAAAAAAAAAAAAAAAAAAAAAAAAAAAAAAAAAAAAAAAAAAAAAAAAAAAAAAAAAAAAAAAAAAAAAAAAAAAAAAAAAAAAAAAAAAAAAAAAAAAAAAAAAAAAAAAAAAAAAAAAAAAAAAAAAAAAAAAAAAAAAAAAAAAAAAAAAPi/ttEDrOE8n6NH+N1xvL+at3/AOb28diu4nHAF53TdX3SSd2UPcp2v0QMAANyNwAIAiAksAICYwAIAiO2jB1jDnBcDr7tTOcnzLnFpdE5WED5skk33wh4cyAkWAEBMYAEAxAQWAEBMYAEAxAQWAEBMYAEAxAQWAEBMYAEAxAQWAEBMYAEAxAQWAEBMYAEAxAQWAEBMYAEAxAQWAEBMYAEAxAQWAEBMYAEAxAQWAEBMYAEAxAQWAEBMYAEAxAQWAEBMYAEAxAQWAEBMYAEAxAQWAEBMYAEAxAQWAEBMYAEAxAQWAEBMYAEAxAQWAEBMYAEAxAQWAEBMYAEAxAQWAEBMYAEAxAQWAEBMYAEAxAQWAEBMYAEAxAQWAEBMYAEAxAQWAEBMYAEAxAQWAEBMYAEAxAQWAEBMYAEAxAQWAEBMYAEAxAQWAEBMYAEAxAQWAEBMYAEAxAQWAEBMYAEAxAQWAEBMYAEAxAQWAEBMYAEAxAQWAEBMYAEAxAQWAEBMYAEAxAQWAEBMYAEAxAQWAEBsHz3AGs7zOXoEgPvwUeX2nGABAMQEFgBATGABAMQEFgBAzCX3dxzHNnoEgJXM+dl0157rOMECAIgJLACAmMACAIgJLACAmMACAIgJLACAmMACAIgJLACAmMACAIgJLACAmMACAIgJLACAmMACAIgJLACAmMACAIgJLACAmMACAIgJLACAmMACAIgJLACAmMACAIgJLACAmMACAIgJLACAmMACAIgJLACAmMACAIgJLACAmMACAIgJLACAmMACAIgJLACAmMACAIgJLACAmMACAIgJLACAmMACAIgJLACAmMACAIgJLACAmMACAIgJLACAmMACAIgJLACAmMACAIgJLACAmMACAIgJLACAmMACAIgJLACAmMACAIgJLACAmMACAIgJLACAmMACAIgJLACAmMACAIgJLACAmMACAIgJLACAmMACAIgJLACAmMACAIgJLACAmMACAIgJLACAmMACAIgJLACAmMACAIjtowdY0nk+R4/wg+PYqp+a8wH5OysIMJYTLACAmMACAIgJLACAmMACAAAAAAAAAAAAAAAAAAAAAAAAAAAAAAAAAAAAAAAAAAAAAAAAAAAAAAAAAAAAAAAAAAAAAAAAAAAAAAAAAAAAAAAAAAAAAAAAAAAAAAAAAAAAAAAAAAAAAAAAAAAAAAAAAAAAAAAAAAAAAAAAAAAAAAAAAAAAAAAAAAAAAAAAAAAAAAAAAAAAAAAAAAAAAAAAAAAAAAAAAAAAAAAAAAAAAAAAAAAAAAAAAAAAAAAAAAAAAAAAAAAAAAAAAAAAAAAAAAAAAAAAAAAAAAAAAAAAAAAAAAAAAAAAAAAAAAAAAAAAAAAAAAAAAAAAAAAAAAAAAAAAAAAAAAAAAAAAAAAAAAAAAAAAAAAAAAAAAAAAAAAAAAAAAAAAAAAAAAAAAAAAAAAAAAAAAAAAAAAAAAAAAAAAAAAAAAAAAAAAAAAAAAAAAAAAAAAAAAAAAAAAAAAAAAAAAAAAAAAAAAAAAAAAAAAAAAAAAAAAAAAAAAAAAAAAAAAAAAAAAAAAAAAAAAAAAAAAAAAAAAAAAAAAAAAAAAAAAAAAAAAAAAAAAAAAAAAAAAAAAAAAAAAAAAAAAAAAAAAAAAAAAAAAAAAAAAAAAAAAAAAAAAAAAAAAAAAAAAAAAAAAAAAAAAAAAAAAAAAAAAAAAAAAAAAAAAAAAAAAAAAAAAAAAAAAAAAAAAAAAAAAAAAAAAAAAGb1DerxOGfhSZg+AAAAAElFTkSuQmCC\" style=\"image-rendering: pixelated; image-rendering: crisp-edges;\">"
            ]
          },
          "metadata": {}
        }
      ]
    },
    {
      "cell_type": "code",
      "source": [],
      "metadata": {
        "id": "evjH-3l5fE3w"
      },
      "execution_count": null,
      "outputs": []
    }
  ]
}