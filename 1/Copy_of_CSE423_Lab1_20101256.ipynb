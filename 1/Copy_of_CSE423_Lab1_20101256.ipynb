{
  "nbformat": 4,
  "nbformat_minor": 0,
  "metadata": {
    "colab": {
      "provenance": []
    },
    "kernelspec": {
      "name": "python3",
      "display_name": "Python 3"
    },
    "language_info": {
      "name": "python"
    },
    "accelerator": "GPU",
    "gpuClass": "standard"
  },
  "cells": [
    {
      "cell_type": "code",
      "source": [
        " !pip install tensorflow==1.15.0"
      ],
      "metadata": {
        "colab": {
          "base_uri": "https://localhost:8080/"
        },
        "id": "L3y0yGFYiWRI",
        "outputId": "06d79f2a-3138-472d-e57f-e7f1db5c9f72"
      },
      "execution_count": 1,
      "outputs": [
        {
          "output_type": "stream",
          "name": "stdout",
          "text": [
            "Looking in indexes: https://pypi.org/simple, https://us-python.pkg.dev/colab-wheels/public/simple/\n",
            "Collecting tensorflow==1.15.0\n",
            "  Downloading tensorflow-1.15.0-cp37-cp37m-manylinux2010_x86_64.whl (412.3 MB)\n",
            "\u001b[K     |████████████████████████████████| 412.3 MB 25 kB/s \n",
            "\u001b[?25hRequirement already satisfied: six>=1.10.0 in /usr/local/lib/python3.7/dist-packages (from tensorflow==1.15.0) (1.15.0)\n",
            "Requirement already satisfied: wheel>=0.26 in /usr/local/lib/python3.7/dist-packages (from tensorflow==1.15.0) (0.37.1)\n",
            "Requirement already satisfied: wrapt>=1.11.1 in /usr/local/lib/python3.7/dist-packages (from tensorflow==1.15.0) (1.14.1)\n",
            "Requirement already satisfied: termcolor>=1.1.0 in /usr/local/lib/python3.7/dist-packages (from tensorflow==1.15.0) (2.0.1)\n",
            "Collecting tensorboard<1.16.0,>=1.15.0\n",
            "  Downloading tensorboard-1.15.0-py3-none-any.whl (3.8 MB)\n",
            "\u001b[K     |████████████████████████████████| 3.8 MB 47.8 MB/s \n",
            "\u001b[?25hRequirement already satisfied: protobuf>=3.6.1 in /usr/local/lib/python3.7/dist-packages (from tensorflow==1.15.0) (3.17.3)\n",
            "Requirement already satisfied: grpcio>=1.8.6 in /usr/local/lib/python3.7/dist-packages (from tensorflow==1.15.0) (1.50.0)\n",
            "Collecting gast==0.2.2\n",
            "  Downloading gast-0.2.2.tar.gz (10 kB)\n",
            "Requirement already satisfied: opt-einsum>=2.3.2 in /usr/local/lib/python3.7/dist-packages (from tensorflow==1.15.0) (3.3.0)\n",
            "Requirement already satisfied: astor>=0.6.0 in /usr/local/lib/python3.7/dist-packages (from tensorflow==1.15.0) (0.8.1)\n",
            "Collecting keras-applications>=1.0.8\n",
            "  Downloading Keras_Applications-1.0.8-py3-none-any.whl (50 kB)\n",
            "\u001b[K     |████████████████████████████████| 50 kB 7.9 MB/s \n",
            "\u001b[?25hRequirement already satisfied: keras-preprocessing>=1.0.5 in /usr/local/lib/python3.7/dist-packages (from tensorflow==1.15.0) (1.1.2)\n",
            "Requirement already satisfied: numpy<2.0,>=1.16.0 in /usr/local/lib/python3.7/dist-packages (from tensorflow==1.15.0) (1.21.6)\n",
            "Collecting tensorflow-estimator==1.15.1\n",
            "  Downloading tensorflow_estimator-1.15.1-py2.py3-none-any.whl (503 kB)\n",
            "\u001b[K     |████████████████████████████████| 503 kB 67.8 MB/s \n",
            "\u001b[?25hRequirement already satisfied: absl-py>=0.7.0 in /usr/local/lib/python3.7/dist-packages (from tensorflow==1.15.0) (1.3.0)\n",
            "Requirement already satisfied: google-pasta>=0.1.6 in /usr/local/lib/python3.7/dist-packages (from tensorflow==1.15.0) (0.2.0)\n",
            "Requirement already satisfied: h5py in /usr/local/lib/python3.7/dist-packages (from keras-applications>=1.0.8->tensorflow==1.15.0) (3.1.0)\n",
            "Requirement already satisfied: werkzeug>=0.11.15 in /usr/local/lib/python3.7/dist-packages (from tensorboard<1.16.0,>=1.15.0->tensorflow==1.15.0) (1.0.1)\n",
            "Requirement already satisfied: markdown>=2.6.8 in /usr/local/lib/python3.7/dist-packages (from tensorboard<1.16.0,>=1.15.0->tensorflow==1.15.0) (3.4.1)\n",
            "Requirement already satisfied: setuptools>=41.0.0 in /usr/local/lib/python3.7/dist-packages (from tensorboard<1.16.0,>=1.15.0->tensorflow==1.15.0) (57.4.0)\n",
            "Requirement already satisfied: importlib-metadata>=4.4 in /usr/local/lib/python3.7/dist-packages (from markdown>=2.6.8->tensorboard<1.16.0,>=1.15.0->tensorflow==1.15.0) (4.13.0)\n",
            "Requirement already satisfied: typing-extensions>=3.6.4 in /usr/local/lib/python3.7/dist-packages (from importlib-metadata>=4.4->markdown>=2.6.8->tensorboard<1.16.0,>=1.15.0->tensorflow==1.15.0) (4.1.1)\n",
            "Requirement already satisfied: zipp>=0.5 in /usr/local/lib/python3.7/dist-packages (from importlib-metadata>=4.4->markdown>=2.6.8->tensorboard<1.16.0,>=1.15.0->tensorflow==1.15.0) (3.9.0)\n",
            "Requirement already satisfied: cached-property in /usr/local/lib/python3.7/dist-packages (from h5py->keras-applications>=1.0.8->tensorflow==1.15.0) (1.5.2)\n",
            "Building wheels for collected packages: gast\n",
            "  Building wheel for gast (setup.py) ... \u001b[?25l\u001b[?25hdone\n",
            "  Created wheel for gast: filename=gast-0.2.2-py3-none-any.whl size=7554 sha256=edb8e823f6aaaa293c00162fc78dd97c18855443c47b08dd501020bca3b40e78\n",
            "  Stored in directory: /root/.cache/pip/wheels/21/7f/02/420f32a803f7d0967b48dd823da3f558c5166991bfd204eef3\n",
            "Successfully built gast\n",
            "Installing collected packages: tensorflow-estimator, tensorboard, keras-applications, gast, tensorflow\n",
            "  Attempting uninstall: tensorflow-estimator\n",
            "    Found existing installation: tensorflow-estimator 2.9.0\n",
            "    Uninstalling tensorflow-estimator-2.9.0:\n",
            "      Successfully uninstalled tensorflow-estimator-2.9.0\n",
            "  Attempting uninstall: tensorboard\n",
            "    Found existing installation: tensorboard 2.9.1\n",
            "    Uninstalling tensorboard-2.9.1:\n",
            "      Successfully uninstalled tensorboard-2.9.1\n",
            "  Attempting uninstall: gast\n",
            "    Found existing installation: gast 0.4.0\n",
            "    Uninstalling gast-0.4.0:\n",
            "      Successfully uninstalled gast-0.4.0\n",
            "  Attempting uninstall: tensorflow\n",
            "    Found existing installation: tensorflow 2.9.2\n",
            "    Uninstalling tensorflow-2.9.2:\n",
            "      Successfully uninstalled tensorflow-2.9.2\n",
            "\u001b[31mERROR: pip's dependency resolver does not currently take into account all the packages that are installed. This behaviour is the source of the following dependency conflicts.\n",
            "tensorflow-probability 0.16.0 requires gast>=0.3.2, but you have gast 0.2.2 which is incompatible.\n",
            "kapre 0.3.7 requires tensorflow>=2.0.0, but you have tensorflow 1.15.0 which is incompatible.\u001b[0m\n",
            "Successfully installed gast-0.2.2 keras-applications-1.0.8 tensorboard-1.15.0 tensorflow-1.15.0 tensorflow-estimator-1.15.1\n"
          ]
        }
      ]
    },
    {
      "cell_type": "code",
      "source": [
        "!pip install -q lucid>=0.2.3\n",
        "!pip install -q moviepy"
      ],
      "metadata": {
        "id": "YXv13t34XX7o",
        "colab": {
          "base_uri": "https://localhost:8080/"
        },
        "outputId": "dbd7e6c0-2bf9-4625-d30f-0794a1b4e561"
      },
      "execution_count": 2,
      "outputs": [
        {
          "output_type": "stream",
          "name": "stdout",
          "text": [
            "\u001b[31mERROR: pip's dependency resolver does not currently take into account all the packages that are installed. This behaviour is the source of the following dependency conflicts.\n",
            "xarray-einstats 0.2.2 requires numpy>=1.21, but you have numpy 1.19.0 which is incompatible.\n",
            "tensorflow-probability 0.16.0 requires gast>=0.3.2, but you have gast 0.2.2 which is incompatible.\n",
            "kapre 0.3.7 requires tensorflow>=2.0.0, but you have tensorflow 1.15.0 which is incompatible.\n",
            "jaxlib 0.3.22+cuda11.cudnn805 requires numpy>=1.20, but you have numpy 1.19.0 which is incompatible.\n",
            "jax 0.3.23 requires numpy>=1.20, but you have numpy 1.19.0 which is incompatible.\n",
            "cupy-cuda11x 11.0.0 requires numpy<1.26,>=1.20, but you have numpy 1.19.0 which is incompatible.\n",
            "cmdstanpy 1.0.7 requires numpy>=1.21, but you have numpy 1.19.0 which is incompatible.\u001b[0m\n"
          ]
        }
      ]
    },
    {
      "cell_type": "code",
      "source": [
        "!pip install imageio==2.4.1"
      ],
      "metadata": {
        "colab": {
          "base_uri": "https://localhost:8080/"
        },
        "id": "Eg1iOrd_FyrX",
        "outputId": "2aaf375c-c045-4c8a-fc25-21309ccf0684"
      },
      "execution_count": 3,
      "outputs": [
        {
          "output_type": "stream",
          "name": "stdout",
          "text": [
            "Looking in indexes: https://pypi.org/simple, https://us-python.pkg.dev/colab-wheels/public/simple/\n",
            "Collecting imageio==2.4.1\n",
            "  Downloading imageio-2.4.1.tar.gz (3.3 MB)\n",
            "\u001b[K     |████████████████████████████████| 3.3 MB 36.8 MB/s \n",
            "\u001b[?25hRequirement already satisfied: numpy in /usr/local/lib/python3.7/dist-packages (from imageio==2.4.1) (1.19.0)\n",
            "Requirement already satisfied: pillow in /usr/local/lib/python3.7/dist-packages (from imageio==2.4.1) (7.1.2)\n",
            "Building wheels for collected packages: imageio\n",
            "  Building wheel for imageio (setup.py) ... \u001b[?25l\u001b[?25hdone\n",
            "  Created wheel for imageio: filename=imageio-2.4.1-py3-none-any.whl size=3303885 sha256=21f5af66480d154bb9917b118f35f7f3ffe3cfc3c7890fe38a16a8b55927f35b\n",
            "  Stored in directory: /root/.cache/pip/wheels/46/20/07/7bb9c8c44e6ec2efa60fd0e6280094f53f65f41767ef69a5ee\n",
            "Successfully built imageio\n",
            "Installing collected packages: imageio\n",
            "  Attempting uninstall: imageio\n",
            "    Found existing installation: imageio 2.9.0\n",
            "    Uninstalling imageio-2.9.0:\n",
            "      Successfully uninstalled imageio-2.9.0\n",
            "Successfully installed imageio-2.4.1\n"
          ]
        }
      ]
    },
    {
      "cell_type": "code",
      "source": [
        "import numpy as np\n",
        "import json\n",
        "import moviepy.editor as mvp\n",
        "from google.colab import files\n",
        "import tensorflow.compat.v1.gfile as gfile\n",
        "import lucid.misc.io.showing as show"
      ],
      "metadata": {
        "id": "MuQfUYd6XYDH",
        "colab": {
          "base_uri": "https://localhost:8080/"
        },
        "outputId": "701d13ad-b3cf-4f9a-cc9c-b5d6b6dfb746"
      },
      "execution_count": 4,
      "outputs": [
        {
          "output_type": "stream",
          "name": "stdout",
          "text": [
            "Imageio: 'ffmpeg-linux64-v3.3.1' was not found on your computer; downloading it now.\n",
            "Try 1. Download from https://github.com/imageio/imageio-binaries/raw/master/ffmpeg/ffmpeg-linux64-v3.3.1 (43.8 MB)\n",
            "Downloading: 8192/45929032 bytes (0.0%)\b\b\b\b\b\b\b\b\b\b\b\b\b\b\b\b\b\b\b\b\b\b\b\b\b\b3137536/45929032 bytes (6.8%)\b\b\b\b\b\b\b\b\b\b\b\b\b\b\b\b\b\b\b\b\b\b\b\b\b\b\b\b\b6397952/45929032 bytes (13.9%)\b\b\b\b\b\b\b\b\b\b\b\b\b\b\b\b\b\b\b\b\b\b\b\b\b\b\b\b\b\b9699328/45929032 bytes (21.1%)\b\b\b\b\b\b\b\b\b\b\b\b\b\b\b\b\b\b\b\b\b\b\b\b\b\b\b\b\b\b13885440/45929032 bytes (30.2%)\b\b\b\b\b\b\b\b\b\b\b\b\b\b\b\b\b\b\b\b\b\b\b\b\b\b\b\b\b\b\b17874944/45929032 bytes (38.9%)\b\b\b\b\b\b\b\b\b\b\b\b\b\b\b\b\b\b\b\b\b\b\b\b\b\b\b\b\b\b\b21872640/45929032 bytes (47.6%)\b\b\b\b\b\b\b\b\b\b\b\b\b\b\b\b\b\b\b\b\b\b\b\b\b\b\b\b\b\b\b26050560/45929032 bytes (56.7%)\b\b\b\b\b\b\b\b\b\b\b\b\b\b\b\b\b\b\b\b\b\b\b\b\b\b\b\b\b\b\b29999104/45929032 bytes (65.3%)\b\b\b\b\b\b\b\b\b\b\b\b\b\b\b\b\b\b\b\b\b\b\b\b\b\b\b\b\b\b\b33996800/45929032 bytes (74.0%)\b\b\b\b\b\b\b\b\b\b\b\b\b\b\b\b\b\b\b\b\b\b\b\b\b\b\b\b\b\b\b38191104/45929032 bytes (83.2%)\b\b\b\b\b\b\b\b\b\b\b\b\b\b\b\b\b\b\b\b\b\b\b\b\b\b\b\b\b\b\b42278912/45929032 bytes (92.1%)\b\b\b\b\b\b\b\b\b\b\b\b\b\b\b\b\b\b\b\b\b\b\b\b\b\b\b\b\b\b\b45929032/45929032 bytes (100.0%)\n",
            "  Done\n",
            "File saved as /root/.imageio/ffmpeg/ffmpeg-linux64-v3.3.1.\n"
          ]
        }
      ]
    },
    {
      "cell_type": "code",
      "source": [
        "from lucid.misc.gl.glcontext import create_opengl_context\n",
        "\n",
        "# Now it's safe to import OpenGL and EGL functions\n",
        "import OpenGL.GL as gl\n",
        "from OpenGL.GLU import *\n",
        "\n",
        "# create_opengl_context() creates GL context that is attached to an\n",
        "# offscreen surface of specified size. Note that rendering to buffers\n",
        "# of different size and format is still possible with OpenGL Framebuffers.\n",
        "#\n",
        "# Users are expected to directly use EGL calls in case more advanced\n",
        "# context management is required.\n",
        "WIDTH, HEIGHT = 800,800\n",
        "create_opengl_context((WIDTH, HEIGHT))\n",
        "    \n",
        "# OpenGL context is available here.\n",
        "\n",
        "print(gl.glGetString(gl.GL_VERSION))\n",
        "print(gl.glGetString(gl.GL_VENDOR)) \n",
        "#print(gl.glGetString(gl.GL_EXTENSIONS))"
      ],
      "metadata": {
        "id": "-dC6f5NBXcNu",
        "colab": {
          "base_uri": "https://localhost:8080/"
        },
        "outputId": "bf85349f-70d8-4a9e-8846-83d16f13f269"
      },
      "execution_count": 6,
      "outputs": [
        {
          "output_type": "stream",
          "name": "stdout",
          "text": [
            "b'4.6.0 NVIDIA 460.32.03'\n",
            "b'NVIDIA Corporation'\n"
          ]
        }
      ]
    },
    {
      "cell_type": "code",
      "source": [
        "# Task_1\n",
        "\n",
        "gl.glClear(gl.GL_COLOR_BUFFER_BIT)\n",
        "gl.glPointSize(4)\n",
        "gl.glColor3f(1.0,1.0,0)   \n",
        "\n",
        "\n",
        "\n",
        "for i in range(50):\n",
        "  i = 0\n",
        "  gl.glBegin(gl.GL_POINTS)\n",
        "  x = np.random.uniform(-1,1)\n",
        "  y = np.random.uniform(-1,1)\n",
        "  gl.glVertex2f(x,y)\n",
        "  gl.glEnd()\n",
        "    \n",
        "  i=i+1\n",
        "\n",
        "img_buf = gl.glReadPixelsub(0, 0, WIDTH, HEIGHT, gl.GL_RGB, gl.GL_UNSIGNED_BYTE)\n",
        "img = np.frombuffer(img_buf, np.uint8).reshape(HEIGHT, WIDTH, 3)[::-1]\n",
        "show.image(img/255.0)\n"
      ],
      "metadata": {
        "id": "evjH-3l5fE3w",
        "colab": {
          "base_uri": "https://localhost:8080/",
          "height": 821
        },
        "outputId": "0b1429bd-623b-4d84-cfdc-09ba1ee9d86e"
      },
      "execution_count": 55,
      "outputs": [
        {
          "output_type": "display_data",
          "data": {
            "text/plain": [
              "<IPython.core.display.HTML object>"
            ],
            "text/html": [
              "<img src=\"data:image/PNG;base64,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\" style=\"image-rendering: pixelated; image-rendering: crisp-edges;\">"
            ]
          },
          "metadata": {}
        }
      ]
    },
    {
      "cell_type": "code",
      "source": [
        "# Task_2\n",
        "\n",
        "gl.glClear(gl.GL_COLOR_BUFFER_BIT)\n",
        "gl.glPointSize(4)\n",
        "\n",
        "#Roof\n",
        "gl.glColor3f(0,128,255)     \n",
        "gl.glBegin(gl.GL_TRIANGLES)   \n",
        "gl.glVertex2f(0,0.94)\n",
        "gl.glVertex2f(-0.6,0.4)\n",
        "gl.glVertex2f(0.6,0.4)\n",
        "gl.glEnd()\n",
        "\n",
        "\n",
        "#House Structure\n",
        "gl.glColor3f(0,128,255)   \n",
        "gl.glBegin(gl.GL_LINES)   \n",
        "gl.glVertex2f(-0.6,0.4)\n",
        "gl.glVertex2f(-0.6,-0.8)\n",
        "gl.glVertex2f(-0.6,-0.8)\n",
        "gl.glVertex2f(0.6,-0.8)\n",
        "gl.glVertex2f(0.6,-0.8)\n",
        "gl.glVertex2f(0.6,0.4)\n",
        "gl.glVertex2f(0.6,0.4)\n",
        "gl.glVertex2f(-0.6,0.4)\n",
        "gl.glEnd()\n",
        "\n",
        "\n",
        "#Door\n",
        "gl.glColor3f(1.0,1.0,0)\n",
        "gl.glBegin(gl.GL_LINE_STRIP)   \n",
        "gl.glVertex2f(-0.19,-0.8)\n",
        "gl.glVertex2f(-0.19,-0.2)\n",
        "gl.glVertex2f(0.19,-0.2)\n",
        "gl.glVertex2f(0.19,-0.8)\n",
        "gl.glEnd()\n",
        "\n",
        "#Door_Knob\n",
        "gl.glBegin(gl.GL_POINTS)  \n",
        "gl.glVertex2f(0.13,-0.4)\n",
        "gl.glEnd()\n",
        "\n",
        "#Windows \n",
        "gl.glColor3f(0,128,255)\n",
        "gl.glBegin(gl.GL_LINE_STRIP)  \n",
        "gl.glVertex2f(-0.25,0)\n",
        "gl.glVertex2f(-0.25,0.25)\n",
        "gl.glVertex2f(-0.5,0.25)\n",
        "gl.glVertex2f(-0.5,0)\n",
        "gl.glVertex2f(-0.25,0)\n",
        "gl.glEnd()\n",
        "\n",
        "\n",
        "gl.glBegin(gl.GL_LINE_STRIP)\n",
        "gl.glVertex2f(0.25,0)\n",
        "gl.glVertex2f(0.25,0.25)\n",
        "gl.glVertex2f(0.5,0.25)\n",
        "gl.glVertex2f(0.5,0)\n",
        "gl.glVertex2f(0.25,0)\n",
        "gl.glEnd()\n",
        "\n",
        "\n",
        "img_buf = gl.glReadPixelsub(0, 0, WIDTH, HEIGHT, gl.GL_RGB, gl.GL_UNSIGNED_BYTE)\n",
        "img = np.frombuffer(img_buf, np.uint8).reshape(HEIGHT, WIDTH, 3)[::-1]\n",
        "show.image(img/255.0)"
      ],
      "metadata": {
        "id": "ANi7Wf-hbL9Y",
        "colab": {
          "base_uri": "https://localhost:8080/",
          "height": 821
        },
        "outputId": "9e02ce98-2764-4e15-b936-6b1c72e3e581"
      },
      "execution_count": 54,
      "outputs": [
        {
          "output_type": "display_data",
          "data": {
            "text/plain": [
              "<IPython.core.display.HTML object>"
            ],
            "text/html": [
              "<img src=\"data:image/PNG;base64,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\" style=\"image-rendering: pixelated; image-rendering: crisp-edges;\">"
            ]
          },
          "metadata": {}
        }
      ]
    }
  ]
}