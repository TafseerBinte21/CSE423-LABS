{
  "cells": [
    {
      "cell_type": "code",
      "execution_count": null,
      "metadata": {
        "colab": {
          "base_uri": "https://localhost:8080/"
        },
        "id": "L3y0yGFYiWRI",
        "outputId": "bf240652-7922-45dd-b35f-2c358ac08b08"
      },
      "outputs": [
        {
          "output_type": "stream",
          "name": "stdout",
          "text": [
            "Looking in indexes: https://pypi.org/simple, https://us-python.pkg.dev/colab-wheels/public/simple/\n",
            "Requirement already satisfied: tensorflow==1.15.0 in /usr/local/lib/python3.7/dist-packages (1.15.0)\n",
            "Requirement already satisfied: absl-py>=0.7.0 in /usr/local/lib/python3.7/dist-packages (from tensorflow==1.15.0) (1.3.0)\n",
            "Requirement already satisfied: gast==0.2.2 in /usr/local/lib/python3.7/dist-packages (from tensorflow==1.15.0) (0.2.2)\n",
            "Requirement already satisfied: tensorboard<1.16.0,>=1.15.0 in /usr/local/lib/python3.7/dist-packages (from tensorflow==1.15.0) (1.15.0)\n",
            "Requirement already satisfied: astor>=0.6.0 in /usr/local/lib/python3.7/dist-packages (from tensorflow==1.15.0) (0.8.1)\n",
            "Requirement already satisfied: opt-einsum>=2.3.2 in /usr/local/lib/python3.7/dist-packages (from tensorflow==1.15.0) (3.3.0)\n",
            "Requirement already satisfied: google-pasta>=0.1.6 in /usr/local/lib/python3.7/dist-packages (from tensorflow==1.15.0) (0.2.0)\n",
            "Requirement already satisfied: protobuf>=3.6.1 in /usr/local/lib/python3.7/dist-packages (from tensorflow==1.15.0) (3.19.6)\n",
            "Requirement already satisfied: wheel>=0.26 in /usr/local/lib/python3.7/dist-packages (from tensorflow==1.15.0) (0.38.4)\n",
            "Requirement already satisfied: keras-preprocessing>=1.0.5 in /usr/local/lib/python3.7/dist-packages (from tensorflow==1.15.0) (1.1.2)\n",
            "Requirement already satisfied: wrapt>=1.11.1 in /usr/local/lib/python3.7/dist-packages (from tensorflow==1.15.0) (1.14.1)\n",
            "Requirement already satisfied: tensorflow-estimator==1.15.1 in /usr/local/lib/python3.7/dist-packages (from tensorflow==1.15.0) (1.15.1)\n",
            "Requirement already satisfied: grpcio>=1.8.6 in /usr/local/lib/python3.7/dist-packages (from tensorflow==1.15.0) (1.50.0)\n",
            "Requirement already satisfied: keras-applications>=1.0.8 in /usr/local/lib/python3.7/dist-packages (from tensorflow==1.15.0) (1.0.8)\n",
            "Requirement already satisfied: numpy<2.0,>=1.16.0 in /usr/local/lib/python3.7/dist-packages (from tensorflow==1.15.0) (1.19.0)\n",
            "Requirement already satisfied: six>=1.10.0 in /usr/local/lib/python3.7/dist-packages (from tensorflow==1.15.0) (1.15.0)\n",
            "Requirement already satisfied: termcolor>=1.1.0 in /usr/local/lib/python3.7/dist-packages (from tensorflow==1.15.0) (2.1.0)\n",
            "Requirement already satisfied: h5py in /usr/local/lib/python3.7/dist-packages (from keras-applications>=1.0.8->tensorflow==1.15.0) (3.1.0)\n",
            "Requirement already satisfied: markdown>=2.6.8 in /usr/local/lib/python3.7/dist-packages (from tensorboard<1.16.0,>=1.15.0->tensorflow==1.15.0) (3.4.1)\n",
            "Requirement already satisfied: setuptools>=41.0.0 in /usr/local/lib/python3.7/dist-packages (from tensorboard<1.16.0,>=1.15.0->tensorflow==1.15.0) (57.4.0)\n",
            "Requirement already satisfied: werkzeug>=0.11.15 in /usr/local/lib/python3.7/dist-packages (from tensorboard<1.16.0,>=1.15.0->tensorflow==1.15.0) (1.0.1)\n",
            "Requirement already satisfied: importlib-metadata>=4.4 in /usr/local/lib/python3.7/dist-packages (from markdown>=2.6.8->tensorboard<1.16.0,>=1.15.0->tensorflow==1.15.0) (4.13.0)\n",
            "Requirement already satisfied: zipp>=0.5 in /usr/local/lib/python3.7/dist-packages (from importlib-metadata>=4.4->markdown>=2.6.8->tensorboard<1.16.0,>=1.15.0->tensorflow==1.15.0) (3.10.0)\n",
            "Requirement already satisfied: typing-extensions>=3.6.4 in /usr/local/lib/python3.7/dist-packages (from importlib-metadata>=4.4->markdown>=2.6.8->tensorboard<1.16.0,>=1.15.0->tensorflow==1.15.0) (4.1.1)\n",
            "Requirement already satisfied: cached-property in /usr/local/lib/python3.7/dist-packages (from h5py->keras-applications>=1.0.8->tensorflow==1.15.0) (1.5.2)\n"
          ]
        }
      ],
      "source": [
        "!pip install tensorflow==1.15.0"
      ]
    },
    {
      "cell_type": "code",
      "execution_count": null,
      "metadata": {
        "id": "YXv13t34XX7o"
      },
      "outputs": [],
      "source": [
        "!pip install -q lucid>=0.2.3\n",
        "!pip install -q moviepy"
      ]
    },
    {
      "cell_type": "code",
      "execution_count": null,
      "metadata": {
        "colab": {
          "base_uri": "https://localhost:8080/"
        },
        "id": "Eg1iOrd_FyrX",
        "outputId": "6682d2d1-ce05-43a3-8d3e-5f508e429c30"
      },
      "outputs": [
        {
          "output_type": "stream",
          "name": "stdout",
          "text": [
            "Looking in indexes: https://pypi.org/simple, https://us-python.pkg.dev/colab-wheels/public/simple/\n",
            "Requirement already satisfied: imageio==2.4.1 in /usr/local/lib/python3.7/dist-packages (2.4.1)\n",
            "Requirement already satisfied: pillow in /usr/local/lib/python3.7/dist-packages (from imageio==2.4.1) (7.1.2)\n",
            "Requirement already satisfied: numpy in /usr/local/lib/python3.7/dist-packages (from imageio==2.4.1) (1.19.0)\n"
          ]
        }
      ],
      "source": [
        "!pip install imageio==2.4.1"
      ]
    },
    {
      "cell_type": "code",
      "execution_count": null,
      "metadata": {
        "id": "MuQfUYd6XYDH"
      },
      "outputs": [],
      "source": [
        "import numpy as np\n",
        "import json\n",
        "import moviepy.editor as mvp\n",
        "from google.colab import files\n",
        "import tensorflow.compat.v1.gfile as gfile\n",
        "import lucid.misc.io.showing as show"
      ]
    },
    {
      "cell_type": "code",
      "execution_count": null,
      "metadata": {
        "colab": {
          "base_uri": "https://localhost:8080/"
        },
        "id": "-dC6f5NBXcNu",
        "outputId": "b5182cc0-40e8-44a5-f244-7c7235c044ab"
      },
      "outputs": [
        {
          "output_type": "stream",
          "name": "stdout",
          "text": [
            "b'4.6.0 NVIDIA 460.32.03'\n",
            "b'NVIDIA Corporation'\n"
          ]
        }
      ],
      "source": [
        "from lucid.misc.gl.glcontext import create_opengl_context\n",
        "\n",
        "# Now it's safe to import OpenGL and EGL functions\n",
        "import OpenGL.GL as gl\n",
        "from OpenGL.GLU import *\n",
        "\n",
        "# create_opengl_context() creates GL context that is attached to an\n",
        "# offscreen surface of specified size. Note that rendering to buffers\n",
        "# of different size and format is still possible with OpenGL Framebuffers.\n",
        "#\n",
        "# Users are expected to directly use EGL calls in case more advanced\n",
        "# context management is required.\n",
        "WIDTH, HEIGHT = 800,600\n",
        "create_opengl_context((WIDTH, HEIGHT))\n",
        "    \n",
        "# OpenGL context is available here.\n",
        "\n",
        "print(gl.glGetString(gl.GL_VERSION))\n",
        "print(gl.glGetString(gl.GL_VENDOR)) \n",
        "#print(gl.glGetString(gl.GL_EXTENSIONS))"
      ]
    },
    {
      "cell_type": "code",
      "execution_count": null,
      "metadata": {
        "id": "RXdQAgxNbbnp"
      },
      "outputs": [],
      "source": [
        "def addPixel(a,b):\n",
        "    gl.glVertex2f( a/(WIDTH/2), b/(HEIGHT/2) )"
      ]
    },
    {
      "cell_type": "code",
      "execution_count": null,
      "metadata": {
        "id": "DkVRJgGbzBbY"
      },
      "outputs": [],
      "source": [
        "def eightway_symetry(x, y, a, b):\n",
        "    addPixel(x + a, y + b)\n",
        "    addPixel(y + a, x + b)\n",
        "    addPixel(y + a, -x + b)\n",
        "    addPixel(x + a, -y + b)\n",
        "    addPixel(-x + a, -y + b)\n",
        "    addPixel(-y + a, -x + b)\n",
        "    addPixel(-y + a, x + b)\n",
        "    addPixel(-x + a, y + b)\n",
        "\n",
        "def midpoint_circle(radius,centerX = 0, centerY = 0):\n",
        "    gl.glBegin(gl.GL_POINTS)\n",
        "    x = 0\n",
        "    y = radius\n",
        "    d = 1 - radius\n",
        "    while x <= y:\n",
        "        eightway_symetry(x,y,centerX,centerY)\n",
        "        if d < 0:\n",
        "            d += 2 * x + 3\n",
        "        else:\n",
        "            d += 2 * (x - y) + 5\n",
        "            y -= 1\n",
        "        x += 1\n",
        "    gl.glEnd()"
      ]
    },
    {
      "cell_type": "code",
      "execution_count": null,
      "metadata": {
        "id": "wiGE56-rLF9f"
      },
      "outputs": [],
      "source": [
        "# Let's render something!\n",
        "gl.glClear(gl.GL_COLOR_BUFFER_BIT)\n",
        "\n",
        "\n",
        "gl.glColor3f(1,0,0)\n",
        "gl.glPointSize(1)\n",
        "\n",
        "midpoint_circle(100)\n",
        "midpoint_circle(100,100,100)"
      ]
    },
    {
      "cell_type": "code",
      "execution_count": null,
      "metadata": {
        "colab": {
          "base_uri": "https://localhost:8080/",
          "height": 621
        },
        "id": "raXKCMFpKvD6",
        "outputId": "cc8c68c5-0e11-4417-8def-bed5729b20d4"
      },
      "outputs": [
        {
          "output_type": "display_data",
          "data": {
            "text/plain": [
              "<IPython.core.display.HTML object>"
            ],
            "text/html": [
              "<img src=\"data:image/PNG;base64,iVBORw0KGgoAAAANSUhEUgAAAyAAAAJYCAIAAAAVFBUnAAANp0lEQVR4nO3d0XbiSA4AUNJn/v+XMw+ZzhAIYBuVS1Ld+9pnk5LkWEL2sJcLAAAAAAAAAAAAAAAAAAAAAAAAAAAAAAAAAAAAAAAAAAAAAAAAAAAAAAAAAAAAAAAAAAAAAAAAAAAAAAAAAAAAAAAAAAAAAAAAAAAAAAAAAAAAAAAAAAAAAAAAAAAAAAAAAAAAAAAAAAAAAAAAAAAAAAAAAAAAAAAAAAAAAAAAAAAAAAAAAAAAAAAAAAAAAAAAAAAAAAAAAAAAAAAAAAAAAAAAAAAAAAAAAAAAAAAAAAAAAAAAAAAAAAAAAAAAAAAAAAAAAAAAAAAAAAAAAAAAAAAAAAAAAAAAAAAAAAAAAAAAAAAAAADBPmYfAICDPo/+D936YTR/ZQDZPRqkDt/Bw38gcMNfE0A6NwPQaXfqWb8X+vHnA5DC9XCT5Nac8EhQhT8ZgJm+h5jkt+Mq54Qk/KUATFB3Xql7cjiTPxCA83SaTjrFAgCU9PnGtyok1zg0OMwHD4CB1lnzrBMpADDNsnudZQMHAAYyYVwkAQCIYqq4ISEAwHEmiSckBwDYx/SwkUQBAJuYGPaSMQDgIfuYw6QOALhlPgghjQDAf8wEseQTAFZnGhhBVgFgUZ5nDSW9ALAcvf8c8gwAq9D1zyTbANCc51ZTSDsAtKXHzyX/ANCN7p6BKgBAH/p6HmoBAB3o6NmoCADUppfnpC4AUJUunpnqAEA9+nd+agQAlejcVagUANSgZ9eiXgCQnW5dkaoBQF76dF1qBwAZ6dDVqSAA5KI396COAJCFrtyJagLAfPpxP2pKTn9mHwAAAICarDq6UlkAmEMP7k19AeBsuu8KVJlUvIMFAADAHhYb61BrADiDjrsaFQeAsfTaNak7GXgHCwAAgA2sMVam+kxngwUAAMArFhi4BgAgks7KF1cCE3lECAAAwGOWFlxzPTCLDRYAAAAPWFdwz1XBFDZYAAAA/MaigkdcG5zPBgsAAIA7VhQ85wrhZDZYAAAA/GQ5wRauE85kgwUAEMyABQAAwBXPfdjO1cJpbLAAAAD4y0KCvVwznMMGCwAgmAELAACAy+XiWQ9HuXI4gQ0WAEAwAxYAAACe8vAe1w+j2WABAAQzYAEAACzP8x3e5ypiKBssAIBgBiwAgGAGLAAAgLV5dYYoriXGscECAAhmwAIACGbAAgAIZsACAABYmLeSieWKYhAbLACAYAYsAIBgBiwAgGAGLACAYAYsAIBgBiwAgGAGLAAAgFX5yiJGcF0xgg0WAEAwAxYAQDADFgBAMAMWAEAwAxYAQDADFgBAMAMWAEAwAxYAQLB/Zh8A4Ifn3/r45F8/gg8CcJwBC5jj0aj0ZE76fPWve38gwCAGLOAkNwNQ+Nzz6AeO/r0A9wxYwEDXw82syebm92Y4EtCeAQuI9z3EJJxgro+U+ZxAaQYsIEy5eeX7nOVODiRnwALe1WA6MWkBsQxYwHFf40inWeRm0uoUGnAmAxaw2wprnq/QVogUGMGABeyw2l7HQgsAGOjz1Xesn2PuGZIkgUAKyiA2WMALljffrp8bSgjwhAELeMgk8StjFvCSAQv4henhJWMWALBD5rdScp4t56nYQu0YxAYL+J99zDEfUgf8ZMACLhfzwds8MQQAfij0lKTEUUscki+KBcAQ5RpMiQOXOCTKxDgeEcK6PM8ax1tZALCiup/da5281mlXozoARCrdV8odvtyB16E0jOMRIazFc6vzeVwIAJ21+bxeNJCix+5KOQAI0Kmd1I2l7sn7UQsA3tWsl5QOp/ThO1EIAN7Sr5FUj6j6+XtQBQCO69pFqsdV/fzVyT8AxzXuIg1CaxBCXZIPwEG9W0iP6HpEUZHMA3DECv2jR4w9oqhFzgE4YpH+0SbMNoFUIeEA7LZO8+gUaadY8pNtAPZZrXN0irdTLJnJMwD7LNg5moXcLJycJBmAHdZsG/2i7hdRNjIMwFYr94x+sfeLKA+5BWCrxXtGy/BbBpWBxAKwlZ7RLwP9IspAVgHYSs+4NE1Cy6DmklIANtEwvnTNQ9e4ZpFPAF7TLa51zUbXuM4nk5zsz+wDAAAAJODj+L2uOeka15nkEIDXdItfNU5L49DOIYEAvKBVPNE4OY1DG03qmMI7WAAAwMJ8Fn+pcYoahzaOpDGLDRYAALAqn8U3apyoxqGNIF0AvKBVbNc7V72jiyVXALygVezSOF2NQ4slUQC8oFUc0DhpjUOLIkVM5yV3AABgMT6LH9Y4dY1De5/kkIENFgAAsBKfxd/UOIGNQ3uHtADwmm7xvq457BrXO+QEgNd0iyhdM9k1rmNkg1S8gwUAAKzBx/FYXfPZNa695AGATTSMcC1T2jKovSQBgK30jBH6ZbVfRHvJAABb6RmDtExsy6C2Wzx8AHbQM8bpl9t+EW23cuwA7KNnjNYvw/0i2mLNqAE4SNs4QbMkNwtniwVDBuAtOsc5OuW5UyxbrBYvAO/SOc7UKdudYnlunUgBCKN5nKxNwtsE8twiYQIQTP84X4+c94jiuRViBCCe/jFLj8z3iOKR3tEBMJAWMlGD5DcI4ZHGoQEwnC4yV/X8Vz//I13jAuAMukgG1atQ/fz3+kUEwKk0kiRKF6L04e81CweACfSSPOrWou7J73WKBYBptJNUipaj6LHvtQkEgJm0k4Q+a9al4pmvFU07ABnpKGmVK025A18rfXgA0tFXMqtVnVqnvVb35HDvn9kHAMju42/v/5h8kLakF4AhfHYvoUSZShzyWrkDA1CDBlNIiWKVOOSXQkeFXTwiBNjB48Io0khvBiyAfb5mAvPBYVIHwBk8JakrZ+1ynupL5rNBIBssgOM8MdxOoliKAQvgLZ4YviQ5LMiABRDAmPUrCWFZBiyAMMasb5IAwEze+e1q7v9p8dxf7aoGGyyAIa63WZcFdjnrRApbGLAABvqeNho/MmscGhxmwAI4Q7+FVqdYIJwBC+A8NwutS8HppO7J4UwGLIAJyk1aVc4JSRiwAGa6n7QuaYaYhEeCKgxYAClcTzCfj/9pqFm/F/oxYAGkczPZPPpaqcMDUPgPBG74a4LJPv0dctTh7/N0yQHQnO+8ZgTXFcz1Z/YBAAC6MWABAAQzYAEABDNgAQAEM2ABAAQzYAEABDNgAQAEM2ABAADt+E5IYrmiYDobLACAYAYsAIBgBiwAgGAGLACAYAYsAIBgBiwAgGAGLAAAoCNfXEQU1xJkYIMFABDMgAUAEMyABQAQzIAFAAA05d1k3ucqgiRssAAAghmwAACCGbAAAIC+vEDDO1w/kIcNFgBAMAMWAADQmqc8HOPKgVRssAAAghmwAACA7jzrYS/XDGRjgwUAEMyABQAALMATH7ZztUBCNlgAAMAarCXYwnUCOdlgAQAEM2ABAADL8PSH51whkJYNFgAAsBIrCh5xbUBmNlgAAMBiLCq456qA5GywAACA9VhXcM31APnZYAEAAEuytOCLKwFKsMECAABWZXWBawAA4umvK1N9KMQjQgAAYG3WGGtSd6jFBgsAAFieZcZqVBwAzqDjrkOtAeA8+u4KVBmK8g4WAADAX9YbvakvAMyhB3elsgAwk07cj5pCdd7BAgAAuGPh0YlqAkAWunIP6ggAuejN1akgAGSkQ9eldgCQlz5dkaoBQHa6dS3qBQA16NlVqBQAVKJz56dGAFCP/p2Z6gBAVbp4TuoCALXp5dmoCAB0oKPnoRYA0Ie+noEqAEA3uvtc8g8APX1q8zNIOwD0p9mfSbYBYBW6/jnkGQDW4rnVUNILAOsyBIwgqwCwOtNALPkEAC4Xz7OCSCMAcMt8cJjUAQDPGBT2kjEA4DX7mI0kCgDYx/TwhOQAAMeZJG5ICAAQw1RxkQQAYIRlJ4xlAweO+Zh9AKCe71Gj/R1knUgBgCwa73UahwacwKcy4F2d1jydYgEmcg8BwtSdTuqeHMjJzQSIV2VeqXJOoBx3FWCg69eYktxuEh4J6MftBTjJzTvjp919Zv1eYGVuNcAcj/4bvcN3pfAfCHCYOw+Qy+EvR3A7AwAAAAAAAAAAAAAAAAAAAAAAAAAAAAAAAAAAAAAAAAAAAAAAAAAAAAAAAAAAAAAAAAAAAAAAAAAAAAAAAAAAAAAAAAAAAAAAAAAAAAAAAAAAAAAAAAAAAAAAAAAAAAAAAAAAAAAAAAAAAAAAAAAAAAAAAAAAAAAAAAAAAAAAAAAAAAAAAAAAAAAAAAAAAAAAAAAAAAAAAAAAAAAAAAAAAAAAAAAAAAAAAAAAAAAAAAAAAAAAAAAAAAAAAAAAAAAAAAAAAAAAAAAAAAAAAAAAAAAAAAAAAAAAAAAAAAAAAAAAAAAAAAAAAAAAAAAAAAAAAAAAAAAAAAAAAAAAAAAAAAAAAAAAAAAAAAAAAAAAAAAAAAAAAAAAAAAAAAAAAAAAAAAAAAAAAAAAAAAAAAAAAAAAAAAAAAAAAAAAAAAAAAAAAAAAAAAAAAAAAAAAAAAAAAAAAAAAAAAAAAAAAAAAAAAAAAAAAAAAAAAAAAAAAAAAAAAAAAAAAAAAAAAAAAAAAAAAAAAAAAAAAAAAAAAAAAAAAAAAAAAAAAAAAAAAAAAAAAAAAAAAAAAAAAAAAAAAAAAAAAAAAAAAAAAAAAAAAAAAAAAAAAAAAAAAAAAAAAAAAOjiX5XyVoOyJbE7AAAAAElFTkSuQmCC\" style=\"image-rendering: pixelated; image-rendering: crisp-edges;\">"
            ]
          },
          "metadata": {}
        }
      ],
      "source": [
        "img_buf = gl.glReadPixelsub(0, 0, WIDTH, HEIGHT, gl.GL_RGB, gl.GL_UNSIGNED_BYTE)\n",
        "img = np.frombuffer(img_buf, np.uint8).reshape(HEIGHT, WIDTH, 3)[::-1]\n",
        "show.image(img/255.0)"
      ]
    },
    {
      "cell_type": "code",
      "source": [
        "from math import radians as rad\n",
        "from math import sin, cos\n",
        "def pattern(n = 8, r = 200, centerX = 0, centerY = 0):\n",
        "    midpoint_circle(r,centerX, centerY)\n",
        "    theta = 0\n",
        "    del_theta = 360/n\n",
        "    small_r = r//2\n",
        "    for i in range(n):\n",
        "      newCenterX = small_r*cos(rad(theta))\n",
        "      newCenterY = small_r*sin(rad(theta))\n",
        "      midpoint_circle(small_r,newCenterX + centerX, newCenterY + centerY)\n",
        "      theta += del_theta\n",
        "\n"
      ],
      "metadata": {
        "id": "nJq2KV74-aRq"
      },
      "execution_count": null,
      "outputs": []
    },
    {
      "cell_type": "code",
      "source": [
        "gl.glClear(gl.GL_COLOR_BUFFER_BIT)\n",
        "gl.glColor3f(1,0,0)\n",
        "gl.glPointSize(1)\n",
        "\n",
        "pattern(5, r =  150)\n",
        "\n",
        "img_buf = gl.glReadPixelsub(0, 0, WIDTH, HEIGHT, gl.GL_RGB, gl.GL_UNSIGNED_BYTE)\n",
        "img = np.frombuffer(img_buf, np.uint8).reshape(HEIGHT, WIDTH, 3)[::-1]\n",
        "show.image(img/255.0)"
      ],
      "metadata": {
        "colab": {
          "base_uri": "https://localhost:8080/",
          "height": 621
        },
        "id": "C4CT7KyGKDGT",
        "outputId": "b8687d74-71dc-4725-d8f0-35ce5bc23bcd"
      },
      "execution_count": null,
      "outputs": [
        {
          "output_type": "display_data",
          "data": {
            "text/plain": [
              "<IPython.core.display.HTML object>"
            ],
            "text/html": [
              "<img src=\"data:image/PNG;base64,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\" style=\"image-rendering: pixelated; image-rendering: crisp-edges;\">"
            ]
          },
          "metadata": {}
        }
      ]
    },
    {
      "cell_type": "code",
      "source": [],
      "metadata": {
        "id": "WgwpgEJiKDCT"
      },
      "execution_count": null,
      "outputs": []
    }
  ],
  "metadata": {
    "accelerator": "GPU",
    "colab": {
      "provenance": []
    },
    "kernelspec": {
      "display_name": "Python 3",
      "name": "python3"
    },
    "language_info": {
      "name": "python"
    }
  },
  "nbformat": 4,
  "nbformat_minor": 0
}